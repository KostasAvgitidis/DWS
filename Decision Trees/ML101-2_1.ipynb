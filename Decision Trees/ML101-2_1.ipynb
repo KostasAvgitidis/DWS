{
 "cells": [
  {
   "source": [
    "# IS-02 Machine Learning - Data and Web Science\n",
    "## Lecture 3: Decision Trees\n",
    "## Project 2 - Decision Tree\n",
    "### <i>Avgitidis Konstantinos </i>"
   ],
   "cell_type": "markdown",
   "metadata": {}
  },
  {
   "cell_type": "code",
   "execution_count": 1,
   "metadata": {
    "tags": []
   },
   "outputs": [],
   "source": [
    "# Importing all necessary libraries\n",
    "import os\n",
    "os.environ[\"PATH\"] += os.pathsep + 'C:/Program Files (x86)/Graphviz/bin/'\n",
    "from sklearn.tree import DecisionTreeClassifier\n",
    "from sklearn import datasets, metrics, tree, model_selection\n",
    "import graphviz\n",
    "import pandas as pd\n",
    "import numpy as np\n",
    "import random"
   ]
  },
  {
   "cell_type": "code",
   "execution_count": 2,
   "metadata": {},
   "outputs": [],
   "source": [
    "breastCancer = datasets.load_breast_cancer(as_frame=True) #Load the breast cancer Dataset"
   ]
  },
  {
   "cell_type": "code",
   "execution_count": 3,
   "metadata": {},
   "outputs": [],
   "source": [
    "breast_df = breastCancer.data.values[:,5:12] #Get just 7 columns in order to avoid overfitting\n",
    "target_df = breastCancer.target"
   ]
  },
  {
   "cell_type": "code",
   "execution_count": 4,
   "metadata": {},
   "outputs": [],
   "source": [
    "#Creating our DataFrame of Decision Tree models\n",
    "#We really dont want to be creating the model each time so lets pickle it\n",
    "import pickle\n",
    "amodel = []\n",
    "models_ = []\n",
    "criterions = ['gini','entropy']\n",
    "try:\n",
    "    models = pickle.load( open( \"decision_tree.p\", \"rb\" ) )\n",
    "except Exception:\n",
    "    #Initialise the DataFrame we're going to be using\n",
    "    columns = ['Algorithm','Criterion','Max Depth','accuracy_score','precision_score','recall_score','f1_score','accuracy_score_train','precision_score_train','recall_score_train','f1_score_train']\n",
    "    models = pd.DataFrame(columns=columns) \n",
    "    for i in range(20):\n",
    "        criterion = random.choice(criterions)\n",
    "        max_depth = random.randint(1,10)\n",
    "        amodel.append('Decision Tree')\n",
    "        amodel.append(criterion)\n",
    "        amodel.append(max_depth)\n",
    "        model = DecisionTreeClassifier(criterion=criterion,max_depth=max_depth,splitter='random')\n",
    "        models_.append(model)\n",
    "        x_train, x_test, y_train, y_test = model_selection.train_test_split(breast_df, target_df,random_state=0)\n",
    "        model.fit(x_train, y_train)\n",
    "        y_predicted = model.predict(x_test)\n",
    "        y_predicted_train = model.predict(x_train)\n",
    "        amodel.append(metrics.accuracy_score(y_test, y_predicted))\n",
    "        amodel.append(metrics.precision_score(y_test, y_predicted))\n",
    "        amodel.append(metrics.recall_score(y_test, y_predicted))\n",
    "        amodel.append(metrics.f1_score(y_test, y_predicted))\n",
    "        amodel.append(metrics.accuracy_score(y_train, y_predicted_train))\n",
    "        amodel.append(metrics.precision_score(y_train, y_predicted_train))\n",
    "        amodel.append(metrics.recall_score(y_train, y_predicted_train))\n",
    "        amodel.append(metrics.f1_score(y_train, y_predicted_train))\n",
    "        models = models.append(pd.DataFrame([amodel], columns=columns))\n",
    "        amodel.clear()\n",
    "    models.reset_index(drop=True)\n",
    "    pickle.dump(models, open( \"decision_tree.p\", \"wb\" ) )"
   ]
  },
  {
   "cell_type": "code",
   "execution_count": 5,
   "metadata": {},
   "outputs": [],
   "source": [
    "models.to_excel(\"DecisionTrees.xlsx\",sheet_name=\"Decision Tree\",index=False,float_format=\"%.6f\",freeze_panes=(1,0))"
   ]
  },
  {
   "cell_type": "code",
   "execution_count": 6,
   "metadata": {},
   "outputs": [],
   "source": [
    "for i in range(20):\n",
    "    dot_data = tree.export_graphviz(models_[i],feature_names = breastCancer.data.columns[5:12],class_names = breastCancer.target_names)\n",
    "    graph = graphviz.Source(dot_data)\n",
    "    graph.format = 'png'\n",
    "    graph.render(f\"breastCancerTreePlot{i+1}\")"
   ]
  }
 ],
 "metadata": {
  "language_info": {
   "codemirror_mode": {
    "name": "ipython",
    "version": 3
   },
   "file_extension": ".py",
   "mimetype": "text/x-python",
   "name": "python",
   "nbconvert_exporter": "python",
   "pygments_lexer": "ipython3",
   "version": "3.7.0-final"
  },
  "orig_nbformat": 2,
  "kernelspec": {
   "name": "python37064bit87f8c7fdc2fa4c888fe68ee6ddf95ee0",
   "display_name": "Python 3.7.0 64-bit"
  }
 },
 "nbformat": 4,
 "nbformat_minor": 2
}