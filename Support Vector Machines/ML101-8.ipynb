{
 "cells": [
  {
   "cell_type": "markdown",
   "source": [
    "# IS-02 Machine Learning - Data and Web Science\n",
    "## Lecture 9: Support Vector Machines\n",
    "## Project 8 - SVM\n",
    "### <i>Avgitidis Konstantinos </i>\n"
   ],
   "metadata": {
    "collapsed": false,
    "pycharm": {
     "name": "#%% md\n"
    }
   }
  },
  {
   "cell_type": "code",
   "execution_count": 1,
   "metadata": {},
   "outputs": [],
   "source": [
    "import pandas as pd\n",
    "from sklearn.svm import SVC\n",
    "import logging\n",
    "from time import time\n",
    "from sklearn.preprocessing import StandardScaler\n",
    "import pickle\n",
    "from imblearn.pipeline import Pipeline as Pipe\n",
    "from sklearn.model_selection import GridSearchCV\n",
    "from sklearn.pipeline import Pipeline, FeatureUnion\n",
    "from imblearn.over_sampling import SVMSMOTE\n",
    "from imblearn.under_sampling import RandomUnderSampler\n",
    "from sklearn.decomposition import PCA\n",
    "from sklearn.feature_selection import SelectKBest"
   ]
  },
  {
   "cell_type": "code",
   "execution_count": 2,
   "metadata": {},
   "outputs": [],
   "source": [
    "X = pd.read_csv('creditcard.csv')"
   ]
  },
  {
   "cell_type": "code",
   "execution_count": 3,
   "metadata": {},
   "outputs": [
    {
     "data": {
      "text/plain": "            Time         V1         V2        V3        V4        V5  \\\n284797  172782.0  -0.241923   0.712247  0.399806 -0.463406  0.244531   \n284798  172782.0   0.219529   0.881246 -0.635891  0.960928 -0.152971   \n284799  172783.0  -1.775135  -0.004235  1.189786  0.331096  1.196063   \n284800  172784.0   2.039560  -0.175233 -1.196825  0.234580 -0.008713   \n284801  172785.0   0.120316   0.931005 -0.546012 -0.745097  1.130314   \n284802  172786.0 -11.881118  10.071785 -9.834783 -2.066656 -5.364473   \n284803  172787.0  -0.732789  -0.055080  2.035030 -0.738589  0.868229   \n284804  172788.0   1.919565  -0.301254 -3.249640 -0.557828  2.630515   \n284805  172788.0  -0.240440   0.530483  0.702510  0.689799 -0.377961   \n284806  172792.0  -0.533413  -0.189733  0.703337 -0.506271 -0.012546   \n\n              V6        V7        V8        V9  ...       V21       V22  \\\n284797 -1.343668  0.929369 -0.206210  0.106234  ... -0.228876 -0.514376   \n284798 -1.014307  0.427126  0.121340 -0.285670  ...  0.099936  0.337120   \n284799  5.519980 -1.518185  2.080825  1.159498  ...  0.103302  0.654850   \n284800 -0.726571  0.017050 -0.118228  0.435402  ... -0.268048 -0.717211   \n284801 -0.235973  0.812722  0.115093 -0.204064  ... -0.314205 -0.808520   \n284802 -2.606837 -4.918215  7.305334  1.914428  ...  0.213454  0.111864   \n284803  1.058415  0.024330  0.294869  0.584800  ...  0.214205  0.924384   \n284804  3.031260 -0.296827  0.708417  0.432454  ...  0.232045  0.578229   \n284805  0.623708 -0.686180  0.679145  0.392087  ...  0.265245  0.800049   \n284806 -0.649617  1.577006 -0.414650  0.486180  ...  0.261057  0.643078   \n\n             V23       V24       V25       V26       V27       V28  Amount  \\\n284797  0.279598  0.371441 -0.559238  0.113144  0.131507  0.081265    5.49   \n284798  0.251791  0.057688 -1.508368  0.144023  0.181205  0.215243   24.05   \n284799 -0.348929  0.745323  0.704545 -0.127579  0.454379  0.130308   79.99   \n284800  0.297930 -0.359769 -0.315610  0.201114 -0.080826 -0.075071    2.68   \n284801  0.050343  0.102800 -0.435870  0.124079  0.217940  0.068803    2.69   \n284802  1.014480 -0.509348  1.436807  0.250034  0.943651  0.823731    0.77   \n284803  0.012463 -1.016226 -0.606624 -0.395255  0.068472 -0.053527   24.79   \n284804 -0.037501  0.640134  0.265745 -0.087371  0.004455 -0.026561   67.88   \n284805 -0.163298  0.123205 -0.569159  0.546668  0.108821  0.104533   10.00   \n284806  0.376777  0.008797 -0.473649 -0.818267 -0.002415  0.013649  217.00   \n\n        Class  \n284797      0  \n284798      0  \n284799      0  \n284800      0  \n284801      0  \n284802      0  \n284803      0  \n284804      0  \n284805      0  \n284806      0  \n\n[10 rows x 31 columns]",
      "text/html": "<div>\n<style scoped>\n    .dataframe tbody tr th:only-of-type {\n        vertical-align: middle;\n    }\n\n    .dataframe tbody tr th {\n        vertical-align: top;\n    }\n\n    .dataframe thead th {\n        text-align: right;\n    }\n</style>\n<table border=\"1\" class=\"dataframe\">\n  <thead>\n    <tr style=\"text-align: right;\">\n      <th></th>\n      <th>Time</th>\n      <th>V1</th>\n      <th>V2</th>\n      <th>V3</th>\n      <th>V4</th>\n      <th>V5</th>\n      <th>V6</th>\n      <th>V7</th>\n      <th>V8</th>\n      <th>V9</th>\n      <th>...</th>\n      <th>V21</th>\n      <th>V22</th>\n      <th>V23</th>\n      <th>V24</th>\n      <th>V25</th>\n      <th>V26</th>\n      <th>V27</th>\n      <th>V28</th>\n      <th>Amount</th>\n      <th>Class</th>\n    </tr>\n  </thead>\n  <tbody>\n    <tr>\n      <th>284797</th>\n      <td>172782.0</td>\n      <td>-0.241923</td>\n      <td>0.712247</td>\n      <td>0.399806</td>\n      <td>-0.463406</td>\n      <td>0.244531</td>\n      <td>-1.343668</td>\n      <td>0.929369</td>\n      <td>-0.206210</td>\n      <td>0.106234</td>\n      <td>...</td>\n      <td>-0.228876</td>\n      <td>-0.514376</td>\n      <td>0.279598</td>\n      <td>0.371441</td>\n      <td>-0.559238</td>\n      <td>0.113144</td>\n      <td>0.131507</td>\n      <td>0.081265</td>\n      <td>5.49</td>\n      <td>0</td>\n    </tr>\n    <tr>\n      <th>284798</th>\n      <td>172782.0</td>\n      <td>0.219529</td>\n      <td>0.881246</td>\n      <td>-0.635891</td>\n      <td>0.960928</td>\n      <td>-0.152971</td>\n      <td>-1.014307</td>\n      <td>0.427126</td>\n      <td>0.121340</td>\n      <td>-0.285670</td>\n      <td>...</td>\n      <td>0.099936</td>\n      <td>0.337120</td>\n      <td>0.251791</td>\n      <td>0.057688</td>\n      <td>-1.508368</td>\n      <td>0.144023</td>\n      <td>0.181205</td>\n      <td>0.215243</td>\n      <td>24.05</td>\n      <td>0</td>\n    </tr>\n    <tr>\n      <th>284799</th>\n      <td>172783.0</td>\n      <td>-1.775135</td>\n      <td>-0.004235</td>\n      <td>1.189786</td>\n      <td>0.331096</td>\n      <td>1.196063</td>\n      <td>5.519980</td>\n      <td>-1.518185</td>\n      <td>2.080825</td>\n      <td>1.159498</td>\n      <td>...</td>\n      <td>0.103302</td>\n      <td>0.654850</td>\n      <td>-0.348929</td>\n      <td>0.745323</td>\n      <td>0.704545</td>\n      <td>-0.127579</td>\n      <td>0.454379</td>\n      <td>0.130308</td>\n      <td>79.99</td>\n      <td>0</td>\n    </tr>\n    <tr>\n      <th>284800</th>\n      <td>172784.0</td>\n      <td>2.039560</td>\n      <td>-0.175233</td>\n      <td>-1.196825</td>\n      <td>0.234580</td>\n      <td>-0.008713</td>\n      <td>-0.726571</td>\n      <td>0.017050</td>\n      <td>-0.118228</td>\n      <td>0.435402</td>\n      <td>...</td>\n      <td>-0.268048</td>\n      <td>-0.717211</td>\n      <td>0.297930</td>\n      <td>-0.359769</td>\n      <td>-0.315610</td>\n      <td>0.201114</td>\n      <td>-0.080826</td>\n      <td>-0.075071</td>\n      <td>2.68</td>\n      <td>0</td>\n    </tr>\n    <tr>\n      <th>284801</th>\n      <td>172785.0</td>\n      <td>0.120316</td>\n      <td>0.931005</td>\n      <td>-0.546012</td>\n      <td>-0.745097</td>\n      <td>1.130314</td>\n      <td>-0.235973</td>\n      <td>0.812722</td>\n      <td>0.115093</td>\n      <td>-0.204064</td>\n      <td>...</td>\n      <td>-0.314205</td>\n      <td>-0.808520</td>\n      <td>0.050343</td>\n      <td>0.102800</td>\n      <td>-0.435870</td>\n      <td>0.124079</td>\n      <td>0.217940</td>\n      <td>0.068803</td>\n      <td>2.69</td>\n      <td>0</td>\n    </tr>\n    <tr>\n      <th>284802</th>\n      <td>172786.0</td>\n      <td>-11.881118</td>\n      <td>10.071785</td>\n      <td>-9.834783</td>\n      <td>-2.066656</td>\n      <td>-5.364473</td>\n      <td>-2.606837</td>\n      <td>-4.918215</td>\n      <td>7.305334</td>\n      <td>1.914428</td>\n      <td>...</td>\n      <td>0.213454</td>\n      <td>0.111864</td>\n      <td>1.014480</td>\n      <td>-0.509348</td>\n      <td>1.436807</td>\n      <td>0.250034</td>\n      <td>0.943651</td>\n      <td>0.823731</td>\n      <td>0.77</td>\n      <td>0</td>\n    </tr>\n    <tr>\n      <th>284803</th>\n      <td>172787.0</td>\n      <td>-0.732789</td>\n      <td>-0.055080</td>\n      <td>2.035030</td>\n      <td>-0.738589</td>\n      <td>0.868229</td>\n      <td>1.058415</td>\n      <td>0.024330</td>\n      <td>0.294869</td>\n      <td>0.584800</td>\n      <td>...</td>\n      <td>0.214205</td>\n      <td>0.924384</td>\n      <td>0.012463</td>\n      <td>-1.016226</td>\n      <td>-0.606624</td>\n      <td>-0.395255</td>\n      <td>0.068472</td>\n      <td>-0.053527</td>\n      <td>24.79</td>\n      <td>0</td>\n    </tr>\n    <tr>\n      <th>284804</th>\n      <td>172788.0</td>\n      <td>1.919565</td>\n      <td>-0.301254</td>\n      <td>-3.249640</td>\n      <td>-0.557828</td>\n      <td>2.630515</td>\n      <td>3.031260</td>\n      <td>-0.296827</td>\n      <td>0.708417</td>\n      <td>0.432454</td>\n      <td>...</td>\n      <td>0.232045</td>\n      <td>0.578229</td>\n      <td>-0.037501</td>\n      <td>0.640134</td>\n      <td>0.265745</td>\n      <td>-0.087371</td>\n      <td>0.004455</td>\n      <td>-0.026561</td>\n      <td>67.88</td>\n      <td>0</td>\n    </tr>\n    <tr>\n      <th>284805</th>\n      <td>172788.0</td>\n      <td>-0.240440</td>\n      <td>0.530483</td>\n      <td>0.702510</td>\n      <td>0.689799</td>\n      <td>-0.377961</td>\n      <td>0.623708</td>\n      <td>-0.686180</td>\n      <td>0.679145</td>\n      <td>0.392087</td>\n      <td>...</td>\n      <td>0.265245</td>\n      <td>0.800049</td>\n      <td>-0.163298</td>\n      <td>0.123205</td>\n      <td>-0.569159</td>\n      <td>0.546668</td>\n      <td>0.108821</td>\n      <td>0.104533</td>\n      <td>10.00</td>\n      <td>0</td>\n    </tr>\n    <tr>\n      <th>284806</th>\n      <td>172792.0</td>\n      <td>-0.533413</td>\n      <td>-0.189733</td>\n      <td>0.703337</td>\n      <td>-0.506271</td>\n      <td>-0.012546</td>\n      <td>-0.649617</td>\n      <td>1.577006</td>\n      <td>-0.414650</td>\n      <td>0.486180</td>\n      <td>...</td>\n      <td>0.261057</td>\n      <td>0.643078</td>\n      <td>0.376777</td>\n      <td>0.008797</td>\n      <td>-0.473649</td>\n      <td>-0.818267</td>\n      <td>-0.002415</td>\n      <td>0.013649</td>\n      <td>217.00</td>\n      <td>0</td>\n    </tr>\n  </tbody>\n</table>\n<p>10 rows × 31 columns</p>\n</div>"
     },
     "execution_count": 3,
     "metadata": {},
     "output_type": "execute_result"
    }
   ],
   "source": [
    "X.tail(10)"
   ]
  },
  {
   "cell_type": "code",
   "execution_count": 4,
   "metadata": {},
   "outputs": [
    {
     "data": {
      "text/plain": "Time      False\nV1        False\nV2        False\nV3        False\nV4        False\nV5        False\nV6        False\nV7        False\nV8        False\nV9        False\nV10       False\nV11       False\nV12       False\nV13       False\nV14       False\nV15       False\nV16       False\nV17       False\nV18       False\nV19       False\nV20       False\nV21       False\nV22       False\nV23       False\nV24       False\nV25       False\nV26       False\nV27       False\nV28       False\nAmount    False\nClass     False\ndtype: bool"
     },
     "execution_count": 4,
     "metadata": {},
     "output_type": "execute_result"
    }
   ],
   "source": [
    "X.isna().any()"
   ]
  },
  {
   "cell_type": "code",
   "execution_count": 5,
   "metadata": {},
   "outputs": [],
   "source": [
    "y = X['Class']\n",
    "X.drop(columns=['Class','Time'], axis=1, inplace=True)"
   ]
  },
  {
   "cell_type": "code",
   "execution_count": 6,
   "metadata": {},
   "outputs": [
    {
     "data": {
      "text/plain": "0    284315\n1       492\nName: Class, dtype: int64"
     },
     "execution_count": 6,
     "metadata": {},
     "output_type": "execute_result"
    }
   ],
   "source": [
    "y.value_counts() #That's pretty imbalanced"
   ]
  },
  {
   "cell_type": "code",
   "execution_count": 7,
   "metadata": {},
   "outputs": [],
   "source": [
    "# define pipeline\n",
    "#Create synthetic data\n",
    "over = SVMSMOTE(sampling_strategy=0.1)\n",
    "#Undersampling our data\n",
    "under = RandomUnderSampler(sampling_strategy=0.3)\n",
    "steps = [('o', over), ('u', under)]\n",
    "#Initializing and fitting the pipeline\n",
    "pipeline = Pipe(steps=steps)\n",
    "X, y = pipeline.fit_resample(X, y)\n"
   ]
  },
  {
   "cell_type": "code",
   "execution_count": 8,
   "metadata": {},
   "outputs": [
    {
     "name": "stdout",
     "output_type": "stream",
     "text": [
      "0    94770\n",
      "1    28431\n",
      "Name: Class, dtype: int64\n"
     ]
    }
   ],
   "source": [
    "#Much less data now\n",
    "print(y.value_counts())"
   ]
  },
  {
   "cell_type": "code",
   "execution_count": 9,
   "metadata": {},
   "outputs": [],
   "source": [
    "try:\n",
    "   grid_search = pickle.load( open( \"GridsCVSVM.p\", \"rb\" ) )\n",
    "except:\n",
    "\n",
    "    logging.basicConfig(level=logging.INFO,\n",
    "                        format='%(asctime)s %(levelname)s %(message)s')\n",
    "\n",
    "    # This dataset is too high-dimensional. Let's do PCA:\n",
    "    pca = PCA(n_components=8)\n",
    "\n",
    "    # Maybe some original features where good, too?\n",
    "    selection = SelectKBest(k=2)\n",
    "\n",
    "    # Build estimator from PCA and Univariate selection:\n",
    "    combined_features = FeatureUnion([(\"pca\", pca), (\"univ_select\", selection)])\n",
    "\n",
    "    # Use combined features to transform dataset:\n",
    "    X_features = combined_features.fit(X, y).transform(X)\n",
    "    print(\"Combined space has\", X_features.shape[1], \"features\")\n",
    "\n",
    "    pipeline = Pipeline([('scale', StandardScaler()),(\"features\", combined_features), (\"clf\", SVC())])\n",
    "\n",
    "    #Our models\n",
    "    parameters = [{\n",
    "        'clf__C': [0.1],\n",
    "        'clf__kernel': ['poly'],\n",
    "        'clf__degree': [2],\n",
    "        'clf__gamma': [0.2],\n",
    "        'clf__max_iter': [1001337],\n",
    "    },{\n",
    "        'clf__C': [10],\n",
    "        'clf__kernel': ['poly'],\n",
    "        'clf__degree': [5],\n",
    "        'clf__gamma': [6],\n",
    "        'clf__max_iter': [1001337],\n",
    "    },{\n",
    "        'clf__C': [0.1],\n",
    "        'clf__kernel': ['rbf'],\n",
    "        'clf__gamma': [0.3],\n",
    "        'clf__max_iter': [1001337],\n",
    "    },{\n",
    "        'clf__C': [10],\n",
    "        'clf__kernel': ['rbf'],\n",
    "        'clf__gamma': [5],\n",
    "        'clf__max_iter': [1001337],\n",
    "    },{\n",
    "        'clf__C': [0.1],\n",
    "        'clf__kernel': ['sigmoid'],\n",
    "        'clf__gamma': [0.5],\n",
    "        'clf__max_iter': [1001337],\n",
    "    },{\n",
    "        'clf__C': [10],\n",
    "        'clf__kernel': ['sigmoid'],\n",
    "        'clf__gamma': [2],\n",
    "        'clf__max_iter': [1001337],\n",
    "    },{\n",
    "        'clf__C': [100],\n",
    "        'clf__kernel': ['sigmoid'],\n",
    "        'clf__gamma': [5],\n",
    "        'clf__max_iter': [1001337],\n",
    "    },\n",
    "    ]\n",
    "    scoring = [\"f1_micro\",\"accuracy\",\"precision\",\"recall\"]\n",
    "    if __name__ == \"__main__\":\n",
    "        grid_search = GridSearchCV(pipeline, parameters,scoring=scoring, n_jobs=-1, refit = 'f1_micro',verbose=10)\n",
    "\n",
    "        print(\"Performing grid search...\")\n",
    "        print(\"pipeline:\", [name for name, _ in pipeline.steps])\n",
    "        t0 = time()\n",
    "        grid_search.fit(X, y)\n",
    "        print(\"done in %0.3fs\" % (time() - t0))\n",
    "        print()\n",
    "\n",
    "        print(\"Best score: %0.3f\" % grid_search.best_score_)\n",
    "        pickle.dump( grid_search, open( \"GridsCVSVM.p\", \"wb\" ) )"
   ]
  },
  {
   "cell_type": "code",
   "execution_count": 10,
   "outputs": [],
   "source": [
    "df = pd.DataFrame(grid_search.cv_results_)\n",
    "# df['max_f1'] = df[max(['split0_test_f1_micro', 'split1_test_f1_micro', 'split2_test_f1_micro',\n",
    "#        'split3_test_f1_micro', 'split4_test_f1_micro'])].values"
   ],
   "metadata": {
    "collapsed": false,
    "pycharm": {
     "name": "#%%\n"
    }
   }
  },
  {
   "cell_type": "code",
   "execution_count": 11,
   "outputs": [],
   "source": [
    "svmdf = pd.DataFrame(data=df[['param_clf__C','param_clf__kernel',\n",
    "                              'param_clf__gamma', 'param_clf__degree',\n",
    "                              'mean_test_accuracy','mean_test_recall',\n",
    "                              'mean_test_precision','mean_test_f1_micro',\n",
    "       ]].values,columns=[\"C\",\"Kernel\",\"Gamma\",\"Degree\",\"Accuracy\",\"Recall\",\"Precision\",\"F1\"])"
   ],
   "metadata": {
    "collapsed": false,
    "pycharm": {
     "name": "#%%\n"
    }
   }
  },
  {
   "cell_type": "code",
   "execution_count": 12,
   "outputs": [
    {
     "data": {
      "text/plain": "     C   Kernel Gamma Degree  Accuracy    Recall Precision        F1\n0  0.1     poly   0.2      2  0.978726  0.915554  0.991654  0.978726\n1   10     poly     6      5  0.875885  0.966974  0.831028  0.875885\n2  0.1      rbf   0.3    NaN  0.994034  0.980305  0.993801  0.994034\n3   10      rbf     5    NaN  0.992727  0.968839  0.999644  0.992727\n4  0.1  sigmoid   0.5    NaN  0.947639  0.884535  0.889994  0.947639\n5   10  sigmoid     2    NaN  0.945204  0.878872  0.884414  0.945204\n6  100  sigmoid     5    NaN  0.949019  0.892342  0.889082  0.949019",
      "text/html": "<div>\n<style scoped>\n    .dataframe tbody tr th:only-of-type {\n        vertical-align: middle;\n    }\n\n    .dataframe tbody tr th {\n        vertical-align: top;\n    }\n\n    .dataframe thead th {\n        text-align: right;\n    }\n</style>\n<table border=\"1\" class=\"dataframe\">\n  <thead>\n    <tr style=\"text-align: right;\">\n      <th></th>\n      <th>C</th>\n      <th>Kernel</th>\n      <th>Gamma</th>\n      <th>Degree</th>\n      <th>Accuracy</th>\n      <th>Recall</th>\n      <th>Precision</th>\n      <th>F1</th>\n    </tr>\n  </thead>\n  <tbody>\n    <tr>\n      <th>0</th>\n      <td>0.1</td>\n      <td>poly</td>\n      <td>0.2</td>\n      <td>2</td>\n      <td>0.978726</td>\n      <td>0.915554</td>\n      <td>0.991654</td>\n      <td>0.978726</td>\n    </tr>\n    <tr>\n      <th>1</th>\n      <td>10</td>\n      <td>poly</td>\n      <td>6</td>\n      <td>5</td>\n      <td>0.875885</td>\n      <td>0.966974</td>\n      <td>0.831028</td>\n      <td>0.875885</td>\n    </tr>\n    <tr>\n      <th>2</th>\n      <td>0.1</td>\n      <td>rbf</td>\n      <td>0.3</td>\n      <td>NaN</td>\n      <td>0.994034</td>\n      <td>0.980305</td>\n      <td>0.993801</td>\n      <td>0.994034</td>\n    </tr>\n    <tr>\n      <th>3</th>\n      <td>10</td>\n      <td>rbf</td>\n      <td>5</td>\n      <td>NaN</td>\n      <td>0.992727</td>\n      <td>0.968839</td>\n      <td>0.999644</td>\n      <td>0.992727</td>\n    </tr>\n    <tr>\n      <th>4</th>\n      <td>0.1</td>\n      <td>sigmoid</td>\n      <td>0.5</td>\n      <td>NaN</td>\n      <td>0.947639</td>\n      <td>0.884535</td>\n      <td>0.889994</td>\n      <td>0.947639</td>\n    </tr>\n    <tr>\n      <th>5</th>\n      <td>10</td>\n      <td>sigmoid</td>\n      <td>2</td>\n      <td>NaN</td>\n      <td>0.945204</td>\n      <td>0.878872</td>\n      <td>0.884414</td>\n      <td>0.945204</td>\n    </tr>\n    <tr>\n      <th>6</th>\n      <td>100</td>\n      <td>sigmoid</td>\n      <td>5</td>\n      <td>NaN</td>\n      <td>0.949019</td>\n      <td>0.892342</td>\n      <td>0.889082</td>\n      <td>0.949019</td>\n    </tr>\n  </tbody>\n</table>\n</div>"
     },
     "execution_count": 12,
     "metadata": {},
     "output_type": "execute_result"
    }
   ],
   "source": [
    "svmdf\n"
   ],
   "metadata": {
    "collapsed": false,
    "pycharm": {
     "name": "#%%\n"
    }
   }
  },
  {
   "cell_type": "code",
   "execution_count": 13,
   "outputs": [],
   "source": [
    "svmdf.to_excel('SVM_Results2.xlsx',index=False)\n"
   ],
   "metadata": {
    "collapsed": false,
    "pycharm": {
     "name": "#%%\n"
    }
   }
  }
 ],
 "metadata": {
  "kernelspec": {
   "name": "python37664bitbaseconda5d194ed548ba4982af4ae2a0996a9bfd",
   "language": "python",
   "display_name": "Python 3.7.6 64-bit ('base': conda)"
  },
  "language_info": {
   "codemirror_mode": {
    "name": "ipython",
    "version": 3
   },
   "file_extension": ".py",
   "mimetype": "text/x-python",
   "name": "python",
   "nbconvert_exporter": "python",
   "pygments_lexer": "ipython3",
   "version": "3.8.3-final"
  }
 },
 "nbformat": 4,
 "nbformat_minor": 2
}