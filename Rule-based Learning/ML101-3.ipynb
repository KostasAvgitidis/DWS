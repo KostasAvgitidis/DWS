{
 "cells": [
  {
   "source": [
    "# IS-02 Machine Learning - Data and Web Science\n",
    "## Lecture 4: Rule-based Learning\n",
    "## Project 3 - CN2\n",
    "### <i>Avgitidis Konstantinos AM: 65</i>"
   ],
   "cell_type": "markdown",
   "metadata": {}
  },
  {
   "cell_type": "code",
   "execution_count": 1,
   "metadata": {},
   "outputs": [],
   "source": [
    "#Importing necessary libraries\n",
    "import Orange\n",
    "from Orange.classification.rules import CN2Learner,CN2UnorderedLearner\n",
    "from Orange.classification.rules import Evaluator as ev\n",
    "from Orange.classification.rules import LaplaceAccuracyEvaluator\n",
    "import pandas as pd\n",
    "import random\n",
    "import pickle"
   ]
  },
  {
   "cell_type": "code",
   "execution_count": 2,
   "metadata": {},
   "outputs": [],
   "source": [
    "winedata = Orange.data.Table.from_file(\"wine.csv\") #Load data into an Orange Table"
   ]
  },
  {
   "cell_type": "code",
   "execution_count": 3,
   "metadata": {},
   "outputs": [
    {
     "output_type": "execute_result",
     "data": {
      "text/plain": [
       "      Alcohol  Malic Acid         Ash Alcalinity of ash   Magnesium  \\\n",
       "0  continuous  continuous  continuous        continuous  continuous   \n",
       "1         NaN         NaN         NaN               NaN         NaN   \n",
       "2       14.23        1.71        2.43              15.6       127.0   \n",
       "3        13.2        1.78        2.14              11.2       100.0   \n",
       "4       13.16        2.36        2.67              18.6       101.0   \n",
       "5       14.37        1.95         2.5              16.8       113.0   \n",
       "6       13.24        2.59        2.87              21.0       118.0   \n",
       "7        14.2        1.76        2.45              15.2       112.0   \n",
       "8       14.39        1.87        2.45              14.6        96.0   \n",
       "9       14.06        2.15        2.61              17.6       121.0   \n",
       "\n",
       "  Total phenols  Flavanoids Nonflavanoid phenols Proanthocyanins  \\\n",
       "0    continuous  continuous           continuous      continuous   \n",
       "1           NaN         NaN                  NaN             NaN   \n",
       "2           2.8        3.06                 0.28            2.29   \n",
       "3          2.65        2.76                 0.26            1.28   \n",
       "4           2.8        3.24                  0.3            2.81   \n",
       "5          3.85        3.49                 0.24            2.18   \n",
       "6           2.8        2.69                 0.39            1.82   \n",
       "7          3.27        3.39                 0.34            1.97   \n",
       "8           2.5        2.52                  0.3            1.98   \n",
       "9           2.6        2.51                 0.31            1.25   \n",
       "\n",
       "  Color intensity         Hue OD280/OD315 of diluted wines     Proline  \\\n",
       "0      continuous  continuous                   continuous  continuous   \n",
       "1             NaN         NaN                          NaN         NaN   \n",
       "2            5.64        1.04                         3.92      1065.0   \n",
       "3            4.38        1.05                          3.4      1050.0   \n",
       "4            5.68        1.03                         3.17      1185.0   \n",
       "5             7.8        0.86                         3.45      1480.0   \n",
       "6            4.32        1.04                         2.93       735.0   \n",
       "7            6.75        1.05                         2.85      1450.0   \n",
       "8            5.25        1.02                         3.58      1290.0   \n",
       "9            5.05        1.06                         3.58      1295.0   \n",
       "\n",
       "       Wine  \n",
       "0  discrete  \n",
       "1     class  \n",
       "2         1  \n",
       "3         1  \n",
       "4         1  \n",
       "5         1  \n",
       "6         1  \n",
       "7         1  \n",
       "8         1  \n",
       "9         1  "
      ],
      "text/html": "<div>\n<style scoped>\n    .dataframe tbody tr th:only-of-type {\n        vertical-align: middle;\n    }\n\n    .dataframe tbody tr th {\n        vertical-align: top;\n    }\n\n    .dataframe thead th {\n        text-align: right;\n    }\n</style>\n<table border=\"1\" class=\"dataframe\">\n  <thead>\n    <tr style=\"text-align: right;\">\n      <th></th>\n      <th>Alcohol</th>\n      <th>Malic Acid</th>\n      <th>Ash</th>\n      <th>Alcalinity of ash</th>\n      <th>Magnesium</th>\n      <th>Total phenols</th>\n      <th>Flavanoids</th>\n      <th>Nonflavanoid phenols</th>\n      <th>Proanthocyanins</th>\n      <th>Color intensity</th>\n      <th>Hue</th>\n      <th>OD280/OD315 of diluted wines</th>\n      <th>Proline</th>\n      <th>Wine</th>\n    </tr>\n  </thead>\n  <tbody>\n    <tr>\n      <th>0</th>\n      <td>continuous</td>\n      <td>continuous</td>\n      <td>continuous</td>\n      <td>continuous</td>\n      <td>continuous</td>\n      <td>continuous</td>\n      <td>continuous</td>\n      <td>continuous</td>\n      <td>continuous</td>\n      <td>continuous</td>\n      <td>continuous</td>\n      <td>continuous</td>\n      <td>continuous</td>\n      <td>discrete</td>\n    </tr>\n    <tr>\n      <th>1</th>\n      <td>NaN</td>\n      <td>NaN</td>\n      <td>NaN</td>\n      <td>NaN</td>\n      <td>NaN</td>\n      <td>NaN</td>\n      <td>NaN</td>\n      <td>NaN</td>\n      <td>NaN</td>\n      <td>NaN</td>\n      <td>NaN</td>\n      <td>NaN</td>\n      <td>NaN</td>\n      <td>class</td>\n    </tr>\n    <tr>\n      <th>2</th>\n      <td>14.23</td>\n      <td>1.71</td>\n      <td>2.43</td>\n      <td>15.6</td>\n      <td>127.0</td>\n      <td>2.8</td>\n      <td>3.06</td>\n      <td>0.28</td>\n      <td>2.29</td>\n      <td>5.64</td>\n      <td>1.04</td>\n      <td>3.92</td>\n      <td>1065.0</td>\n      <td>1</td>\n    </tr>\n    <tr>\n      <th>3</th>\n      <td>13.2</td>\n      <td>1.78</td>\n      <td>2.14</td>\n      <td>11.2</td>\n      <td>100.0</td>\n      <td>2.65</td>\n      <td>2.76</td>\n      <td>0.26</td>\n      <td>1.28</td>\n      <td>4.38</td>\n      <td>1.05</td>\n      <td>3.4</td>\n      <td>1050.0</td>\n      <td>1</td>\n    </tr>\n    <tr>\n      <th>4</th>\n      <td>13.16</td>\n      <td>2.36</td>\n      <td>2.67</td>\n      <td>18.6</td>\n      <td>101.0</td>\n      <td>2.8</td>\n      <td>3.24</td>\n      <td>0.3</td>\n      <td>2.81</td>\n      <td>5.68</td>\n      <td>1.03</td>\n      <td>3.17</td>\n      <td>1185.0</td>\n      <td>1</td>\n    </tr>\n    <tr>\n      <th>5</th>\n      <td>14.37</td>\n      <td>1.95</td>\n      <td>2.5</td>\n      <td>16.8</td>\n      <td>113.0</td>\n      <td>3.85</td>\n      <td>3.49</td>\n      <td>0.24</td>\n      <td>2.18</td>\n      <td>7.8</td>\n      <td>0.86</td>\n      <td>3.45</td>\n      <td>1480.0</td>\n      <td>1</td>\n    </tr>\n    <tr>\n      <th>6</th>\n      <td>13.24</td>\n      <td>2.59</td>\n      <td>2.87</td>\n      <td>21.0</td>\n      <td>118.0</td>\n      <td>2.8</td>\n      <td>2.69</td>\n      <td>0.39</td>\n      <td>1.82</td>\n      <td>4.32</td>\n      <td>1.04</td>\n      <td>2.93</td>\n      <td>735.0</td>\n      <td>1</td>\n    </tr>\n    <tr>\n      <th>7</th>\n      <td>14.2</td>\n      <td>1.76</td>\n      <td>2.45</td>\n      <td>15.2</td>\n      <td>112.0</td>\n      <td>3.27</td>\n      <td>3.39</td>\n      <td>0.34</td>\n      <td>1.97</td>\n      <td>6.75</td>\n      <td>1.05</td>\n      <td>2.85</td>\n      <td>1450.0</td>\n      <td>1</td>\n    </tr>\n    <tr>\n      <th>8</th>\n      <td>14.39</td>\n      <td>1.87</td>\n      <td>2.45</td>\n      <td>14.6</td>\n      <td>96.0</td>\n      <td>2.5</td>\n      <td>2.52</td>\n      <td>0.3</td>\n      <td>1.98</td>\n      <td>5.25</td>\n      <td>1.02</td>\n      <td>3.58</td>\n      <td>1290.0</td>\n      <td>1</td>\n    </tr>\n    <tr>\n      <th>9</th>\n      <td>14.06</td>\n      <td>2.15</td>\n      <td>2.61</td>\n      <td>17.6</td>\n      <td>121.0</td>\n      <td>2.6</td>\n      <td>2.51</td>\n      <td>0.31</td>\n      <td>1.25</td>\n      <td>5.05</td>\n      <td>1.06</td>\n      <td>3.58</td>\n      <td>1295.0</td>\n      <td>1</td>\n    </tr>\n  </tbody>\n</table>\n</div>"
     },
     "metadata": {},
     "execution_count": 3
    }
   ],
   "source": [
    "#Lets print the data so we know what this dataset is all about\n",
    "wines = pd.read_csv('wine.csv')\n",
    "wines.head(10)"
   ]
  },
  {
   "cell_type": "code",
   "execution_count": 4,
   "metadata": {},
   "outputs": [
    {
     "output_type": "stream",
     "name": "stdout",
     "text": [
      "13 attributes: 13 continuous, 0 discrete\nFirst three attributes: Alcohol, Malic Acid, Ash\nClass: Wine\n"
     ]
    }
   ],
   "source": [
    "#Some useful data about our dataset\n",
    "n = len(winedata.domain.attributes)\n",
    "n_cont = sum(1 for a in winedata.domain.attributes if a.is_continuous)\n",
    "n_disc = sum(1 for a in winedata.domain.attributes if a.is_discrete)\n",
    "print(\"%d attributes: %d continuous, %d discrete\" % (n, n_cont, n_disc))\n",
    "\n",
    "print(\n",
    "    \"First three attributes:\",\n",
    "    \", \".join(winedata.domain.attributes[i].name for i in range(3)),\n",
    ")\n",
    "\n",
    "print(\"Class:\", winedata.domain.class_var.name)"
   ]
  },
  {
   "cell_type": "code",
   "execution_count": 5,
   "metadata": {},
   "outputs": [],
   "source": [
    "#Creating necessary lists for our output DataFrame\n",
    "ordering = ['Ordered','Unordered','Ordered']\n",
    "evaluator = ['Default (Entropy)','Default (Laplace)','Laplace']\n",
    "#Creating our 3 main learners\n",
    "lr_ord = Orange.classification.rules.CN2Learner()\n",
    "lr_unord = Orange.classification.rules.CN2UnorderedLearner()\n",
    "lr_ord2 = Orange.classification.rules.CN2Learner()\n",
    "lr_ord2.rule_finder.quality_evaluator = LaplaceAccuracyEvaluator()\n",
    "learners = [lr_ord,lr_unord,lr_ord2]"
   ]
  },
  {
   "cell_type": "code",
   "execution_count": 6,
   "metadata": {},
   "outputs": [],
   "source": [
    "#Creating our DataFrame of Rule-Based models\n",
    "#We really dont want to be creating the models each time so lets pickle it or laod it if we've previously created it\n",
    "#The first loop's index can changed to a smaller int to decrease computation time\n",
    "#Multithreading can also help cut down time\n",
    "amodel = []\n",
    "alist=[]\n",
    "try:\n",
    "    models = pickle.load( open( \"rule_learning.p\", \"rb\" ) )\n",
    "except Exception:\n",
    "    #Initialise the DataFrame we're going to be using\n",
    "    columns = ['Algorithm', 'Rule ordering', 'Evaluator','Beam width','Min rule coverage','Max rule length','Accuracy','Precision','Recall','F1','Rules']\n",
    "    models = pd.DataFrame(columns=columns) \n",
    "    for j in range(20):\n",
    "        for i in range(3):\n",
    "            learner = learners[i]\n",
    "            arule = '\\n'\n",
    "            amodel.append('Rule-Based')\n",
    "            amodel.append(ordering[i])\n",
    "            amodel.append(evaluator[i])\n",
    "            # consider 3 to 10 solution streams at one time\n",
    "            learner.rule_finder.search_algorithm.beam_width = random.randint(3,10)\n",
    "            #Don't constrain continuous values, it takes more time but better results\n",
    "            learner.rule_finder.search_strategy.constrain_continuous = False\n",
    "            # found rules must cover at least 7-15 examples\n",
    "            learner.rule_finder.general_validator.min_covered_examples = random.randint(7,15)\n",
    "            # found rules may combine at most 3 to 5 selectors (conditions)\n",
    "            learner.rule_finder.general_validator.max_rule_length = random.randint(3,5)\n",
    "            amodel.append(learner.rule_finder.search_algorithm.beam_width)\n",
    "            amodel.append(learner.rule_finder.general_validator.min_covered_examples)\n",
    "            amodel.append(learner.rule_finder.general_validator.max_rule_length)\n",
    "            classifier = learner(winedata)\n",
    "            cv = Orange.evaluation.CrossValidation(winedata, [learner], k=5) #Cross-Validate the results 5-fold\n",
    "            amodel.append(Orange.evaluation.scoring.CA(cv)[0])\n",
    "            amodel.append(Orange.evaluation.scoring.Recall(cv,average='macro')[0])\n",
    "            amodel.append(Orange.evaluation.scoring.Precision(cv,average='macro')[0])\n",
    "            amodel.append(Orange.evaluation.scoring.F1(cv,average='macro')[0])\n",
    "            for i in classifier.rule_list: #getting all the rules in one row\n",
    "                alist.append(str(i))\n",
    "\n",
    "            arule = arule.join(alist)\n",
    "            amodel.append(arule)\n",
    "            models = models.append(pd.DataFrame([amodel], columns=columns))\n",
    "            amodel.clear()\n",
    "            alist.clear()\n",
    "    models.reset_index(drop=True)\n",
    "    pickle.dump(models, open( \"rule_learning.p\", \"wb\" ) )\n"
   ]
  },
  {
   "cell_type": "code",
   "execution_count": 7,
   "metadata": {},
   "outputs": [],
   "source": [
    "from pandas import ExcelWriter\n",
    "with ExcelWriter(path=\"RuleBased_results_all.xlsx\",engine='openpyxl',mode='w') as xl_writer:\n",
    "    models.to_excel(excel_writer=xl_writer,sheet_name='Sheet1',index=False,float_format=\"%.6f\",freeze_panes=(1,0)) #Saving every model to an excel"
   ]
  },
  {
   "cell_type": "code",
   "execution_count": 8,
   "metadata": {},
   "outputs": [],
   "source": [
    "#Getting the highest sum of metrics\n",
    "models['Sum'] = models[['Accuracy','Precision','Recall','F1']].sum(axis=1)\n",
    "models.sort_values(by=['Evaluator','Sum'],axis=0)\n",
    "models.drop_duplicates(subset='Evaluator',keep='first',inplace=True)\n",
    "models.reset_index(drop=True)\n",
    "models.drop(columns='Sum',inplace=True)"
   ]
  },
  {
   "cell_type": "code",
   "execution_count": 9,
   "metadata": {},
   "outputs": [],
   "source": [
    "with ExcelWriter(path=\"RuleBased_results.xlsx\",engine='openpyxl',mode='w') as xl_writer:\n",
    "    models.to_excel(excel_writer=xl_writer,sheet_name='Sheet1',index=False,float_format=\"%.6f\",freeze_panes=(1,0)) #Saving best models to excel"
   ]
  }
 ],
 "metadata": {
  "language_info": {
   "codemirror_mode": {
    "name": "ipython",
    "version": 3
   },
   "file_extension": ".py",
   "mimetype": "text/x-python",
   "name": "python",
   "nbconvert_exporter": "python",
   "pygments_lexer": "ipython3",
   "version": "3.8.3-final"
  },
  "orig_nbformat": 2,
  "kernelspec": {
   "name": "Python 3.8.3 64-bit (conda)",
   "display_name": "Python 3.8.3 64-bit (conda)",
   "metadata": {
    "interpreter": {
     "hash": "44c9297ee2bf6eb05c87d52175b2322307b60c2fb758b7e287803abc4a4090be"
    }
   }
  }
 },
 "nbformat": 4,
 "nbformat_minor": 2
}