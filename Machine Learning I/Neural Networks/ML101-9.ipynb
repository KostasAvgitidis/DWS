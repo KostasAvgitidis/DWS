{
 "metadata": {
  "language_info": {
   "codemirror_mode": {
    "name": "ipython",
    "version": 3
   },
   "file_extension": ".py",
   "mimetype": "text/x-python",
   "name": "python",
   "nbconvert_exporter": "python",
   "pygments_lexer": "ipython3",
   "version": "3.8.3-final"
  },
  "orig_nbformat": 2,
  "kernelspec": {
   "name": "python3",
   "language": "python",
   "display_name": "Python 3"
  }
 },
 "nbformat": 4,
 "nbformat_minor": 2,
 "cells": [
  {
   "cell_type": "markdown",
   "source": [
    "# IS-02 Machine Learning - Data and Web Science\n",
    "## Lecture 10: Neural Networks\n",
    "## Project 9 - Image Classifier\n",
    "### <i>Avgitidis Konstantinos AM: 65</i>"
   ],
   "metadata": {
    "collapsed": false,
    "pycharm": {
     "name": "#%% md\n"
    }
   }
  },
  {
   "cell_type": "code",
   "execution_count": 1,
   "outputs": [],
   "source": [
    "import re\n",
    "import torch\n",
    "from torchvision import models, transforms\n",
    "from PIL import Image"
   ],
   "metadata": {
    "collapsed": false,
    "pycharm": {
     "name": "#%%%\n"
    }
   }
  },
  {
   "cell_type": "code",
   "execution_count": 2,
   "metadata": {},
   "outputs": [],
   "source": [
    "#Importing the pretrained ResNet\n",
    "resnet = models.resnet101(pretrained=True)"
   ]
  },
  {
   "cell_type": "code",
   "execution_count": 3,
   "metadata": {},
   "outputs": [],
   "source": [
    "#Preprocess for our images\n",
    "preprocess = transforms.Compose([\n",
    "    transforms.Resize(256,interpolation=Image.BICUBIC),\n",
    "    transforms.CenterCrop(256),\n",
    "    transforms.ToTensor(),\n",
    "    transforms.Normalize(mean=[0.485, 0.456, 0.406],std=[0.229, 0.224, 0.225])])"
   ]
  },
  {
   "cell_type": "code",
   "execution_count": 4,
   "metadata": {},
   "outputs": [],
   "source": [
    "#Getting ImageNet's labels\n",
    "with open('labels.txt') as f:\n",
    "    labels = [line.strip() for line in f.readlines()]"
   ]
  },
  {
   "cell_type": "code",
   "execution_count": 5,
   "metadata": {},
   "outputs": [],
   "source": [
    "#Defining a function that\n",
    "def predict(name,path,count):\n",
    "    print(\"-\".join([ \"-\" for _ in range(40)]),end=\"\\n\")\n",
    "    print(f\"{name} top 5 predictions for the {count} input images\",end=\"\\n\")\n",
    "    for k in range(count):\n",
    "        img = Image.open(f\"{path}{k+1}.jpg\") #getting the image\n",
    "        img_t = preprocess(img) #applying the preprocess transformations\n",
    "        batch_t = torch.unsqueeze(img_t, 0) #unsqueezing the image tensor\n",
    "        if torch.cuda.is_available(): #using cuda to calculate the results quicker\n",
    "            batch_t = batch_t.to('cuda')\n",
    "            resnet.to('cuda')\n",
    "\n",
    "        resnet.eval() #setting our module in evaluation mode\n",
    "        out = resnet(batch_t) #getting our results\n",
    "        _, index = torch.max(out, 1)\n",
    "        _, indices = torch.sort(out, descending=True) #sorting results by descending order\n",
    "        percentage = torch.nn.functional.softmax(out, dim=1)[0] * 100\n",
    "\n",
    "        print(f\"\\nImage{k+1} results:\",end=\"\\n\")\n",
    "        #getting the top 5 predictions\n",
    "        predictions = [(labels[idx], str(round(percentage[idx].item(),2)) + \"%\") for idx in indices[0][:5]]\n",
    "        for i in predictions:\n",
    "            print(re.sub('[\"]',\"\",i[0]).title(),i[1])\n",
    "    print(\"-\".join([ \"-\" for _ in range(40)]),end=\"\\n\")"
   ]
  },
  {
   "cell_type": "code",
   "execution_count": 6,
   "metadata": {
    "pycharm": {
     "name": "#%%\n"
    }
   },
   "outputs": [
    {
     "name": "stdout",
     "output_type": "stream",
     "text": [
      "-------------------------------------------------------------------------------\n",
      "Ermis top 5 predictions for the 3 input images\n",
      "\n",
      "Image1 results:\n",
      "Borzoi, Russian Wolfhound 14.66%\n",
      "German Shepherd, German Shepherd Dog, German Police Dog, Alsatian 11.87%\n",
      "Collie 6.81%\n",
      "Pembroke, Pembroke Welsh Corgi 5.59%\n",
      "Cardigan, Cardigan Welsh Corgi 4.64%\n",
      "\n",
      "Image2 results:\n",
      "Cardigan, Cardigan Welsh Corgi 42.54%\n",
      "German Shepherd, German Shepherd Dog, German Police Dog, Alsatian 22.84%\n",
      "Pembroke, Pembroke Welsh Corgi 18.94%\n",
      "Collie 5.01%\n",
      "Border Collie 2.48%\n",
      "\n",
      "Image3 results:\n",
      "Patio, Terrace 25.08%\n",
      "Borzoi, Russian Wolfhound 10.27%\n",
      "Pembroke, Pembroke Welsh Corgi 6.99%\n",
      "Eskimo Dog, Husky 6.07%\n",
      "Siberian Husky 4.43%\n",
      "-------------------------------------------------------------------------------\n",
      "-------------------------------------------------------------------------------\n",
      "Fred top 5 predictions for the 3 input images\n",
      "\n",
      "Image1 results:\n",
      "English Setter 41.58%\n",
      "Dalmatian, Coach Dog, Carriage Dog 22.93%\n",
      "German Short-Haired Pointer 5.97%\n",
      "English Foxhound 4.31%\n",
      "Walker Hound, Walker Foxhound 3.4%\n",
      "\n",
      "Image2 results:\n",
      "Dalmatian, Coach Dog, Carriage Dog 45.88%\n",
      "English Setter 28.98%\n",
      "German Short-Haired Pointer 3.89%\n",
      "Great Dane 1.25%\n",
      "Bluetick 0.85%\n",
      "\n",
      "Image3 results:\n",
      "Whippet 22.33%\n",
      "Pug, Pug-Dog 18.47%\n",
      "Dalmatian, Coach Dog, Carriage Dog 14.85%\n",
      "Great Dane 5.74%\n",
      "Labrador Retriever 2.47%\n",
      "-------------------------------------------------------------------------------\n",
      "-------------------------------------------------------------------------------\n",
      "Jake top 5 predictions for the 4 input images\n",
      "\n",
      "Image1 results:\n",
      "Basenji 45.03%\n",
      "Dingo, Warrigal, Warragal, Canis Dingo 15.92%\n",
      "Siberian Husky 6.04%\n",
      "Norwegian Elkhound, Elkhound 4.71%\n",
      "Eskimo Dog, Husky 2.16%\n",
      "\n",
      "Image2 results:\n",
      "Pembroke, Pembroke Welsh Corgi 29.59%\n",
      "Eskimo Dog, Husky 15.82%\n",
      "Siberian Husky 10.51%\n",
      "Saint Bernard, St Bernard 7.23%\n",
      "Beagle 4.25%\n",
      "\n",
      "Image3 results:\n",
      "Dingo, Warrigal, Warragal, Canis Dingo 31.23%\n",
      "Labrador Retriever 8.66%\n",
      "Cardigan, Cardigan Welsh Corgi 6.89%\n",
      "Golden Retriever 6.61%\n",
      "German Shepherd, German Shepherd Dog, German Police Dog, Alsatian 4.82%\n",
      "\n",
      "Image4 results:\n",
      "Siberian Husky 51.75%\n",
      "Malamute, Malemute, Alaskan Malamute 29.45%\n",
      "Eskimo Dog, Husky 11.33%\n",
      "Norwegian Elkhound, Elkhound 5.59%\n",
      "Basenji 0.4%\n",
      "-------------------------------------------------------------------------------\n"
     ]
    }
   ],
   "source": [
    "#Predicting the breed of the dog in our images\n",
    "predict(\"Ermis\",\"Ermis/Ermis\",3)\n",
    "predict(\"Fred\",\"Fred/Fred\",3)\n",
    "predict(\"Jake\",\"Jake/jake\",4)"
   ]
  }
 ]
}