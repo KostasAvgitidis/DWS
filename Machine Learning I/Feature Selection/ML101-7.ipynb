{
 "metadata": {
  "language_info": {
   "codemirror_mode": {
    "name": "ipython",
    "version": 3
   },
   "file_extension": ".py",
   "mimetype": "text/x-python",
   "name": "python",
   "nbconvert_exporter": "python",
   "pygments_lexer": "ipython3",
   "version": "3.8.3-final"
  },
  "orig_nbformat": 2,
  "kernelspec": {
   "name": "python37664bitbaseconda5d194ed548ba4982af4ae2a0996a9bfd",
   "language": "python",
   "display_name": "Python 3.7.6 64-bit ('base': conda)"
  }
 },
 "nbformat": 4,
 "nbformat_minor": 2,
 "cells": [
  {
   "cell_type": "markdown",
   "source": [
    "# IS-02 Machine Learning - Data and Web Science\n",
    "## Lecture 8: Feature Selection - Discretization\n",
    "## Project 7 - Feature Importance\n",
    "### <i>Avgitidis Konstantinos</i>"
   ],
   "metadata": {
    "collapsed": false,
    "pycharm": {
     "name": "#%% md\n"
    }
   }
  },
  {
   "cell_type": "code",
   "execution_count": 1,
   "metadata": {},
   "outputs": [],
   "source": [
    "import pandas as pd\n",
    "from time import time\n",
    "import logging\n",
    "from sklearn.ensemble import RandomForestClassifier\n",
    "from sklearn.model_selection import GridSearchCV\n",
    "from sklearn.pipeline import Pipeline\n",
    "from sklearn import metrics\n",
    "import numpy as np\n",
    "import matplotlib.pyplot as plt\n",
    "from sklearn.model_selection import train_test_split\n",
    "import pickle\n",
    "from sklearn import decomposition"
   ]
  },
  {
   "cell_type": "code",
   "execution_count": 2,
   "metadata": {},
   "outputs": [],
   "source": [
    "X = pd.read_csv('HTRU_2.csv',header=None)"
   ]
  },
  {
   "cell_type": "code",
   "execution_count": 3,
   "metadata": {},
   "outputs": [],
   "source": [
    "#Changing the name of the columns\n",
    "X.columns = [f'feature{i}' if i < 8 else 'is_pulsar' for i in range(9)]"
   ]
  },
  {
   "cell_type": "code",
   "execution_count": 4,
   "metadata": {},
   "outputs": [
    {
     "name": "stdout",
     "output_type": "stream",
     "text": [
      "2278547452928\n",
      "2278547493600\n"
     ]
    }
   ],
   "source": [
    "#Splitting Data/Target\n",
    "y = X.is_pulsar\n",
    "X.drop(columns='is_pulsar',axis=1,inplace=True)\n",
    "X_ = X.copy() #For later use\n",
    "print(id(X_))\n",
    "print(id(X))"
   ]
  },
  {
   "cell_type": "code",
   "execution_count": 5,
   "metadata": {},
   "outputs": [
    {
     "name": "stdout",
     "output_type": "stream",
     "text": [
      "\tclf__criterion: 'entropy'\n",
      "\tclf__n_estimators: 216\n",
      "\tclf__random_state: 0\n"
     ]
    }
   ],
   "source": [
    "# GridSearchCV to find the best parameters to use\n",
    "parameters = {\n",
    "    'clf__n_estimators': [i for i in range(100,251)],\n",
    "    'clf__criterion': ('gini','entropy'),\n",
    "    'clf__random_state': (0,42)\n",
    "}\n",
    "try:\n",
    "   grid_search = pickle.load( open( \"gscv.p\", \"rb\" ) )\n",
    "   best_parameters = grid_search.best_estimator_.get_params()\n",
    "   for param_name in sorted(parameters.keys()):\n",
    "       print(\"\\t%s: %r\" % (param_name, best_parameters[param_name]))\n",
    "\n",
    "except:\n",
    "\n",
    "    logging.basicConfig(level=logging.INFO,\n",
    "                        format='%(asctime)s %(levelname)s %(message)s')\n",
    "\n",
    "\n",
    "\n",
    "    pipeline = Pipeline([\n",
    "        ('clf', RandomForestClassifier()),\n",
    "    ])\n",
    "\n",
    "\n",
    "    # parameters = {\n",
    "    #     'clf__n_estimators': [i for i in range(100,251)],\n",
    "    #     'clf__criterion': ('gini','entropy'),\n",
    "    #     'clf__random_state': (0,42)\n",
    "    # }\n",
    "\n",
    "    if __name__ == \"__main__\":\n",
    "        grid_search = GridSearchCV(pipeline, parameters,scoring=\"f1_micro\", n_jobs=-1, verbose=1)\n",
    "\n",
    "        print(\"Performing grid search...\")\n",
    "        print(\"pipeline:\", [name for name, _ in pipeline.steps])\n",
    "        t0 = time()\n",
    "        grid_search.fit(X, y)\n",
    "        print(\"done in %0.3fs\" % (time() - t0))\n",
    "        print()\n",
    "\n",
    "        print(\"Best score: %0.3f\" % grid_search.best_score_)\n",
    "        print(\"Best parameters set:\")\n",
    "        best_parameters = grid_search.best_estimator_.get_params()\n",
    "        for param_name in sorted(parameters.keys()):\n",
    "            print(\"\\t%s: %r\" % (param_name, best_parameters[param_name]))\n",
    "        pickle.dump( grid_search, open( \"gscv.p\", \"wb\" ) )"
   ]
  },
  {
   "cell_type": "code",
   "execution_count": 6,
   "metadata": {},
   "outputs": [],
   "source": [
    "X_train, X_test, y_train, y_test = train_test_split(X, y, test_size = 0.2 ,random_state=0)\n",
    "#Using the best parameters we've found\n",
    "forest = RandomForestClassifier(n_estimators=216, criterion='entropy', random_state=0)\n",
    "clf = forest.fit(X_train, y_train)\n",
    "y_pred = clf.predict(X_test)"
   ]
  },
  {
   "cell_type": "code",
   "execution_count": 7,
   "metadata": {},
   "outputs": [
    {
     "name": "stdout",
     "output_type": "stream",
     "text": [
      "Metrics Before PCA:\n",
      "Accuracy: 0.9846368715083799\n",
      "Recall: 0.8613138686131386\n",
      "Precision: 0.932806324110672\n",
      "F1-Score: 0.8956356736242884\n"
     ]
    },
    {
     "data": {
      "text/plain": "<sklearn.metrics._plot.roc_curve.RocCurveDisplay at 0x21284033820>"
     },
     "execution_count": 7,
     "metadata": {},
     "output_type": "execute_result"
    },
    {
     "data": {
      "text/plain": "<Figure size 432x288 with 1 Axes>",
      "image/png": "[encoded data removed]"
     },
     "metadata": {
      "needs_background": "light"
     },
     "output_type": "display_data"
    }
   ],
   "source": [
    "#Calculating scores before PCA and plotting the ROC Curve\n",
    "acc = metrics.accuracy_score(y_test, y_pred)\n",
    "rec = metrics.recall_score(y_test, y_pred)\n",
    "prec = metrics.precision_score(y_test, y_pred)\n",
    "f1 = metrics.f1_score(y_test, y_pred)\n",
    "print('Metrics Before PCA:')\n",
    "print(f'Accuracy: {acc}')\n",
    "print(f'Recall: {rec}')\n",
    "print(f'Precision: {prec}')\n",
    "print(f'F1-Score: {f1}')\n",
    "metrics.plot_roc_curve(clf, X_test, y_test)"
   ]
  },
  {
   "cell_type": "code",
   "execution_count": 8,
   "outputs": [],
   "source": [
    "#Using PCA to get the best 4 features\n",
    "pca = decomposition.PCA(n_components=4)\n",
    "pca.fit(X)\n",
    "X = pca.transform(X)\n",
    "X_train, X_test, y_train, y_test = train_test_split(X, y, test_size = 0.2 ,random_state=0)\n",
    "# forest = RandomForestClassifier(n_estimators=216, criterion='entropy', random_state=0)\n",
    "clf = forest.fit(X_train, y_train)\n",
    "y_pred = clf.predict(X_test)"
   ],
   "metadata": {
    "collapsed": false,
    "pycharm": {
     "name": "#%%\n"
    }
   }
  },
  {
   "cell_type": "code",
   "execution_count": 9,
   "outputs": [
    {
     "name": "stdout",
     "output_type": "stream",
     "text": [
      "Metrics After PCA:\n",
      "Accuracy: 0.9776536312849162\n",
      "Recall: 0.8138686131386861\n",
      "Precision: 0.8849206349206349\n",
      "F1-Score: 0.8479087452471482\n"
     ]
    },
    {
     "data": {
      "text/plain": "<sklearn.metrics._plot.roc_curve.RocCurveDisplay at 0x21289d09ca0>"
     },
     "execution_count": 9,
     "metadata": {},
     "output_type": "execute_result"
    },
    {
     "data": {
      "text/plain": "<Figure size 432x288 with 1 Axes>",
      "image/png": "[encoded data removed]"
     },
     "metadata": {
      "needs_background": "light"
     },
     "output_type": "display_data"
    }
   ],
   "source": [
    "acc_ = metrics.accuracy_score(y_test, y_pred)\n",
    "rec_ = metrics.recall_score(y_test, y_pred)\n",
    "prec_ = metrics.precision_score(y_test, y_pred)\n",
    "f1_ = metrics.f1_score(y_test, y_pred)\n",
    "print('Metrics After PCA:')\n",
    "print(f'Accuracy: {acc_}')\n",
    "print(f'Recall: {rec_}')\n",
    "print(f'Precision: {prec_}')\n",
    "print(f'F1-Score: {f1_}')\n",
    "metrics.plot_roc_curve(clf, X_test, y_test)"
   ],
   "metadata": {
    "collapsed": false,
    "pycharm": {
     "name": "#%%\n"
    }
   }
  },
  {
   "cell_type": "code",
   "execution_count": 10,
   "metadata": {},
   "outputs": [
    {
     "name": "stdout",
     "output_type": "stream",
     "text": [
      "Feature ranking:\n",
      "1. feature 2 (0.346977)\n",
      "2. feature 3 (0.177641)\n",
      "3. feature 0 (0.161336)\n",
      "4. feature 5 (0.093913)\n",
      "5. feature 4 (0.073190)\n",
      "6. feature 7 (0.059870)\n",
      "7. feature 1 (0.045025)\n",
      "8. feature 6 (0.042048)\n"
     ]
    },
    {
     "data": {
      "text/plain": "<Figure size 432x288 with 1 Axes>",
      "image/png": "[encoded data removed]"
     },
     "metadata": {
      "needs_background": "light"
     },
     "output_type": "display_data"
    }
   ],
   "source": [
    "forest = RandomForestClassifier(n_estimators=159,criterion=\"entropy\",\n",
    "                              random_state=42)\n",
    "\n",
    "forest.fit(X_, y)\n",
    "#Impurity-Based importances\n",
    "importances = forest.feature_importances_\n",
    "normalized = (importances-min(importances))/(max(importances)-min(importances))\n",
    "std = np.std([tree.feature_importances_ for tree in forest.estimators_],\n",
    "             axis=0)\n",
    "indices = np.argsort(importances)[::-1]\n",
    "\n",
    "print(\"Feature ranking:\")\n",
    "\n",
    "for f in range(X_.shape[1]):\n",
    "    print(\"%d. feature %d (%f)\" % (f + 1, indices[f], importances[indices[f]]))\n",
    "\n",
    "\n",
    "plt.figure()\n",
    "plt.title(\"Feature importances | Best Features\")\n",
    "plt.bar(range(X_.shape[1]), importances[indices],\n",
    "        color=\"r\", yerr=std[indices], align=\"center\")\n",
    "plt.xticks(range(X_.shape[1]), indices)\n",
    "plt.xlim([-1, X_.shape[1]])\n",
    "plt.show()"
   ]
  },
  {
   "cell_type": "code",
   "execution_count": 11,
   "metadata": {},
   "outputs": [
    {
     "name": "stdout",
     "output_type": "stream",
     "text": [
      "Feature ranking:\n",
      "1. feature 2 (0.131154)\n",
      "2. feature 5 (0.014460)\n",
      "3. feature 0 (0.011677)\n",
      "4. feature 1 (0.009688)\n",
      "5. feature 3 (0.009040)\n",
      "6. feature 7 (0.009040)\n",
      "7. feature 4 (0.008414)\n",
      "8. feature 6 (0.008236)\n"
     ]
    },
    {
     "data": {
      "text/plain": "<Figure size 432x288 with 1 Axes>",
      "image/png": "[encoded data removed]"
     },
     "metadata": {
      "needs_background": "light"
     },
     "output_type": "display_data"
    }
   ],
   "source": [
    "from sklearn.inspection import permutation_importance\n",
    "\n",
    "#Permutation-Based importances\n",
    "result = permutation_importance(forest, X_, y, scoring='neg_mean_squared_error')\n",
    "\n",
    "\n",
    "importances = result.importances_mean\n",
    "normalized_ = (importances-min(importances))/(max(importances)-min(importances))\n",
    "std = result.importances_std\n",
    "indices = np.argsort(importances)[::-1]\n",
    "\n",
    "print(\"Feature ranking:\")\n",
    "\n",
    "for f in range(X_.shape[1]):\n",
    "    print(\"%d. feature %d (%f)\" % (f + 1, indices[f], importances[indices[f]]))\n",
    "\n",
    "\n",
    "plt.figure()\n",
    "plt.title(\"Feature importances | Best features\")\n",
    "plt.bar(range(X_.shape[1]), importances[indices],\n",
    "        color=\"r\", yerr=std[indices], align=\"center\")\n",
    "plt.xticks(range(X_.shape[1]), indices)\n",
    "plt.xlim([-1, X_.shape[1]])\n",
    "plt.show()"
   ]
  },
  {
   "cell_type": "code",
   "execution_count": 12,
   "metadata": {},
   "outputs": [
    {
     "name": "stdout",
     "output_type": "stream",
     "text": [
      "Best Features: [3 4 1 6]\n"
     ]
    }
   ],
   "source": [
    "#Getting the best features from both methods\n",
    "best_features = np.argsort(normalized+normalized_)[::-1][0:4]\n",
    "print(f'Best Features: {best_features + 1}')"
   ]
  },
  {
   "cell_type": "code",
   "execution_count": 13,
   "metadata": {
    "pycharm": {
     "name": "#%%\n"
    }
   },
   "outputs": [
    {
     "name": "stdout",
     "output_type": "stream",
     "text": [
      "Metrics After Permutation-Based/Impurity-Based Importances:\n",
      "Accuracy: 0.9832402234636871\n",
      "Recall: 0.843065693430657\n",
      "Precision: 0.9314516129032258\n",
      "F1-Score: 0.8850574712643678\n"
     ]
    },
    {
     "data": {
      "text/plain": "<sklearn.metrics._plot.roc_curve.RocCurveDisplay at 0x21289cd2280>"
     },
     "execution_count": 13,
     "metadata": {},
     "output_type": "execute_result"
    },
    {
     "data": {
      "text/plain": "<Figure size 432x288 with 1 Axes>",
      "image/png": "[encoded data removed]"
     },
     "metadata": {
      "needs_background": "light"
     },
     "output_type": "display_data"
    }
   ],
   "source": [
    "#Include only these features\n",
    "X__ = X_[['feature3','feature1','feature4','feature6']]\n",
    "X_train, X_test, y_train, y_test = train_test_split(X__, y, test_size = 0.2 ,random_state=0)\n",
    "clf = forest.fit(X_train, y_train)\n",
    "y_pred_ = clf.predict(X_test)\n",
    "\n",
    "acc__ = metrics.accuracy_score(y_test, y_pred_)\n",
    "rec__ = metrics.recall_score(y_test, y_pred_)\n",
    "prec__ = metrics.precision_score(y_test, y_pred_)\n",
    "f1__ = metrics.f1_score(y_test, y_pred_)\n",
    "print('Metrics After Permutation-Based/Impurity-Based Importances:')\n",
    "print(f'Accuracy: {acc__}')\n",
    "print(f'Recall: {rec__}')\n",
    "print(f'Precision: {prec__}')\n",
    "print(f'F1-Score: {f1__}')\n",
    "metrics.plot_roc_curve(clf, X_test, y_test)"
   ]
  },
  {
   "cell_type": "code",
   "execution_count": 14,
   "outputs": [
    {
     "name": "stdout",
     "output_type": "stream",
     "text": [
      "Differences in metrics between all features and filtered features\n",
      "Accuracy: 0.0013966480446927498\n",
      "Recall: 0.018248175182481674\n",
      "Precision: 0.0013547112074462353\n",
      "F1-Score: 0.010578202359920574\n"
     ]
    }
   ],
   "source": [
    "print(\"Differences in metrics between all features and filtered features\")\n",
    "print(f'Accuracy: {acc-acc__}')\n",
    "print(f'Recall: {rec-rec__}')\n",
    "print(f'Precision: {prec-prec__}')\n",
    "print(f'F1-Score: {f1-f1__}')\n",
    "#Everything seems to be about he same except recall so it's better to use all the features\n",
    "#OR keep another number of features instead of 4 and experiment further"
   ],
   "metadata": {
    "collapsed": false,
    "pycharm": {
     "name": "#%%\n"
    }
   }
  }
 ]
}